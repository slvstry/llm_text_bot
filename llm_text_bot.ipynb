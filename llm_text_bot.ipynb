{
 "cells": [
  {
   "cell_type": "code",
   "execution_count": 16,
   "id": "9a38ed71-86f2-4099-b759-e323aff88df4",
   "metadata": {},
   "outputs": [],
   "source": [
    "import telebot\n",
    "import torch\n",
    "from transformers import pipeline, AutoTokenizer, AutoModelForSequenceClassification\n",
    "import re"
   ]
  },
  {
   "cell_type": "code",
   "execution_count": 26,
   "id": "c4d4a8b9-0c38-430b-a83c-e2be1581229e",
   "metadata": {},
   "outputs": [],
   "source": [
    "# Загрузка модели и токенизатора\n",
    "model_name = \"cointegrated/rubert-tiny-sentiment-balanced\"\n",
    "tokenizer = AutoTokenizer.from_pretrained(model_name)\n",
    "model = AutoModelForSequenceClassification.from_pretrained(model_name)"
   ]
  },
  {
   "cell_type": "code",
   "execution_count": 27,
   "id": "2464959e-ac50-415b-a2c1-17259c72b89b",
   "metadata": {},
   "outputs": [],
   "source": [
    "# Устройство (CPU или GPU)\n",
    "device = 0 if torch.cuda.is_available() else -1\n",
    "\n",
    "# Создание пайплайна для анализа тональности\n",
    "sentiment_analysis = pipeline(\"sentiment-analysis\", model=model, tokenizer=tokenizer, device=device)\n",
    "\n",
    "# Список плохих слов \n",
    "bad_words = [\"дура\", \"дурак\"]  "
   ]
  },
  {
   "cell_type": "code",
   "execution_count": 28,
   "id": "fe60f069-08ce-46b6-a77d-06c9990465fb",
   "metadata": {},
   "outputs": [],
   "source": [
    "# Предобработка текста\n",
    "def preprocess_text(text: str) -> str:\n",
    "    text = text.lower()  # Приведение к нижнему регистру\n",
    "    text = re.sub(r'\\s+', ' ', text)  # Удаление лишних пробелов\n",
    "    text = re.sub(r'[^\\w\\s]', '', text)  # Удаление знаков препинания\n",
    "    return text.strip()\n"
   ]
  },
  {
   "cell_type": "code",
   "execution_count": 29,
   "id": "8e232355-3525-445a-910c-bffd633ddca6",
   "metadata": {},
   "outputs": [],
   "source": [
    "# Функция для анализа тональности\n",
    "def analyze_sentiment(text: str) -> dict:\n",
    "    preprocessed_text = preprocess_text(text)\n",
    "    result = sentiment_analysis(preprocessed_text)[0]\n",
    "    return {\"label\": result['label'], \"score\": result['score']}"
   ]
  },
  {
   "cell_type": "code",
   "execution_count": 30,
   "id": "491482da-47f4-48c3-ab2f-403d63e23ed0",
   "metadata": {},
   "outputs": [],
   "source": [
    "# Функция для поиска плохих слов\n",
    "def find_bad_words(text: str) -> list:\n",
    "    text = preprocess_text(text)\n",
    "    words = text.split()\n",
    "    return [word for word in words if word in bad_words]"
   ]
  },
  {
   "cell_type": "code",
   "execution_count": 31,
   "id": "c411ad9d-a2bc-4a61-a514-60ee0bbf5b83",
   "metadata": {},
   "outputs": [],
   "source": [
    "# Форматирование результата\n",
    "def format_response(message_text: str, sentiment: dict, bad_words: list) -> str:\n",
    "    response = f\"Сообщение: {message_text}\\n\"\n",
    "    response += f\"Тональность: {sentiment['label']} (оценка: {sentiment['score']:.2f})\\n\"\n",
    "    if bad_words:\n",
    "        response += f\"Плохие слова: {', '.join(bad_words)}\\n\"\n",
    "    else:\n",
    "        response += \"Плохих слов не найдено\\n\"\n",
    "    return response"
   ]
  },
  {
   "cell_type": "code",
   "execution_count": 32,
   "id": "f75668eb-f762-47a7-9927-b02dcc0e435c",
   "metadata": {},
   "outputs": [],
   "source": [
    "# токен Telegram бота\n",
    "TELEGRAM_TOKEN = ' '  # здесь нужно вписать свой telegram-токен\n",
    "bot = telebot.TeleBot(TELEGRAM_TOKEN)"
   ]
  },
  {
   "cell_type": "code",
   "execution_count": 33,
   "id": "980e5558-5c51-4113-bd0b-fb4f10d6f22b",
   "metadata": {},
   "outputs": [],
   "source": [
    "# Обработчик команды /start\n",
    "@bot.message_handler(commands=['start'])\n",
    "def start_command(message):\n",
    "    bot.send_message(message.chat.id, \"Бот запущен. Жду сообщений\")"
   ]
  },
  {
   "cell_type": "code",
   "execution_count": 34,
   "id": "c89d2f36-b2d4-4a7c-800a-3f12a9d6292d",
   "metadata": {},
   "outputs": [],
   "source": [
    "# Обработчик текстовых сообщений\n",
    "@bot.message_handler(content_types=['text'])\n",
    "def get_text_messages(message):\n",
    "    sentiment = analyze_sentiment(message.text)\n",
    "    bad_words_found = find_bad_words(message.text)\n",
    "    \n",
    "    # Форматируем ответ\n",
    "    formatted_response = format_response(message.text, sentiment, bad_words_found)\n",
    "    \n",
    "    bot.send_message(message.chat.id, formatted_response)"
   ]
  },
  {
   "cell_type": "code",
   "execution_count": 35,
   "id": "37fe6da6-248a-4533-844a-64fea279805a",
   "metadata": {},
   "outputs": [
    {
     "name": "stderr",
     "output_type": "stream",
     "text": [
      "D:\\ProgramData\\anaconda3\\envs\\myenv\\lib\\site-packages\\transformers\\models\\bert\\modeling_bert.py:439: UserWarning: 1Torch was not compiled with flash attention. (Triggered internally at C:\\cb\\pytorch_1000000000000\\work\\aten\\src\\ATen\\native\\transformers\\cuda\\sdp_utils.cpp:263.)\n",
      "  attn_output = torch.nn.functional.scaled_dot_product_attention(\n"
     ]
    }
   ],
   "source": [
    "# Запуск бота\n",
    "bot.polling(none_stop=True)"
   ]
  },
  {
   "cell_type": "code",
   "execution_count": null,
   "id": "eef66556-b04c-4eb3-b18b-3e9790e19cb8",
   "metadata": {},
   "outputs": [],
   "source": []
  }
 ],
 "metadata": {
  "kernelspec": {
   "display_name": "Python 3 (ipykernel)",
   "language": "python",
   "name": "python3"
  },
  "language_info": {
   "codemirror_mode": {
    "name": "ipython",
    "version": 3
   },
   "file_extension": ".py",
   "mimetype": "text/x-python",
   "name": "python",
   "nbconvert_exporter": "python",
   "pygments_lexer": "ipython3",
   "version": "3.8.18"
  }
 },
 "nbformat": 4,
 "nbformat_minor": 5
}
